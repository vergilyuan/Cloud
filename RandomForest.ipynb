{
 "cells": [
  {
   "cell_type": "code",
   "execution_count": 1,
   "metadata": {},
   "outputs": [],
   "source": [
    "# Import all necessary libraries and setup the environment for matplotlib\n",
    "%matplotlib inline\n",
    "import findspark\n",
    "import time\n",
    "import pandas as pd\n",
    "findspark.init()\n",
    "from pyspark.sql import SparkSession\n",
    "from pyspark.sql import Row\n",
    "from pyspark.ml.feature import PCA\n",
    "from pyspark.ml.clustering import KMeans\n",
    "from pyspark.ml.linalg import Vectors\n",
    "from pyspark.ml.feature import VectorAssembler\n",
    "from pyspark.sql import functions\n",
    "import numpy as np\n",
    "import matplotlib.pyplot as plt\n",
    "from numpy import *\n",
    "from sklearn.metrics import accuracy_score"
   ]
  },
  {
   "cell_type": "code",
   "execution_count": 2,
   "metadata": {},
   "outputs": [],
   "source": [
    "from pyspark.ml import Pipeline\n",
    "from pyspark.ml.classification import RandomForestClassifier\n",
    "from pyspark.ml.feature import IndexToString, StringIndexer, VectorIndexer\n",
    "from pyspark.ml.evaluation import MulticlassClassificationEvaluator\n",
    "from pyspark.ml.classification import LogisticRegression\n",
    "\n",
    "def RFClassifier(training_data, test_data, nTrees,features):\n",
    "\n",
    "    start = time.time()\n",
    "    \n",
    "    \n",
    "    labelIndexer = StringIndexer(inputCol=\"label\", outputCol=\"indexedLabel\").fit(training_data)\n",
    "    featureIndexer =VectorIndexer(inputCol=\"features\", outputCol=\"indexedFeatures\")\n",
    "    labelConverter = IndexToString(inputCol=\"prediction\", outputCol=\"predictedLabel\",labels=labelIndexer.labels)\n",
    "    # Training model\n",
    "    rf = RandomForestClassifier(labelCol=\"indexedLabel\", \n",
    "                                featuresCol=features, numTrees=nTrees)\n",
    "    pipeline = Pipeline(stages=[labelIndexer, rf,labelConverter])\n",
    "    model=pipeline.fit(training_data)\n",
    "    # Prediction\n",
    "    predictions = model.transform(test_data)\n",
    "    #predictions.show()\n",
    "    # Accuracy\n",
    "    evaluator = MulticlassClassificationEvaluator(\n",
    "        labelCol=\"indexedLabel\", predictionCol=\"prediction\", metricName=\"accuracy\")\n",
    "    accuracy = evaluator.evaluate(predictions)\n",
    "    print(accuracy)\n",
    "    \n",
    "    end = time.time()\n",
    "    runtime=round(end - start, 2)\n",
    "    print('Time: {}s'.format(runtime))\n",
    "    \n",
    "    return accuracy,runtime"
   ]
  },
  {
   "cell_type": "code",
   "execution_count": 3,
   "metadata": {},
   "outputs": [],
   "source": [
    "def PCA_reduction(training_data,test_data,num):\n",
    "    start = time.time() # time counting\n",
    "    pca = PCA(k=num, inputCol='features', outputCol='pca') #PCA implementing\n",
    "    model = pca.fit(training_data)\n",
    "    recontructed_training_data = model.transform(training_data).select('label','features','pca')\n",
    "    recontructed_test_data = model.transform(test_data).select('label','features','pca')\n",
    "    end = time.time()\n",
    "    print('Explained Variance: {}, Time: {}s'.format(round(model.explainedVariance.sum(),3), round(end - start, 2)))\n",
    "    return recontructed_training_data, recontructed_test_data"
   ]
  },
  {
   "cell_type": "code",
   "execution_count": 4,
   "metadata": {},
   "outputs": [
    {
     "name": "stdout",
     "output_type": "stream",
     "text": [
      "Number of test data:  10000\n",
      "Number of training data:  60000\n",
      "Time: 9.38s\n"
     ]
    }
   ],
   "source": [
    "spark = SparkSession \\\n",
    "    .builder \\\n",
    "    .appName(\"Python Spark Machine Learning Random forest\") \\\n",
    "    .getOrCreate()\n",
    "start = time.time()\n",
    "\n",
    "test_datafile= \"Test-label-28x28.csv\"\n",
    "train_datafile = \"Train-label-28x28.csv\"\n",
    "\n",
    "\n",
    "test_df = spark.read.csv(test_datafile,header=False,inferSchema=\"true\")\n",
    "train_df = spark.read.csv(train_datafile,header=False,inferSchema=\"true\")\n",
    "\n",
    "print('Number of test data: ',test_df.count())\n",
    "print('Number of training data: ',train_df.count())\n",
    "\n",
    "# Give header to the column\n",
    "assembler = VectorAssembler(inputCols=test_df.columns[1:],\n",
    "    outputCol=\"features\")\n",
    "test_data = assembler.transform(test_df).select(test_df[0].alias('label'),\"features\")\n",
    "training_data = assembler.transform(train_df).select(train_df[0].alias('label'),\"features\")\n",
    "data = training_data.union(test_data)\n",
    "\n",
    "    \n",
    "end = time.time()\n",
    "print('Time: {}s'.format(round(end - start, 2)))"
   ]
  },
  {
   "cell_type": "code",
   "execution_count": 5,
   "metadata": {},
   "outputs": [
    {
     "name": "stdout",
     "output_type": "stream",
     "text": [
      "Explained Variance: 0.825, Time: 12.45s\n"
     ]
    }
   ],
   "source": [
    "training_data_pca,test_data_pca=PCA_reduction(training_data,test_data,50)\n"
   ]
  },
  {
   "cell_type": "code",
   "execution_count": 6,
   "metadata": {},
   "outputs": [
    {
     "name": "stdout",
     "output_type": "stream",
     "text": [
      "0.7518\n",
      "Time: 21.83s\n",
      "0.7658\n",
      "Time: 15.46s\n",
      "0.8019\n",
      "Time: 18.22s\n",
      "0.799\n",
      "Time: 16.08s\n",
      "0.8006\n",
      "Time: 15.36s\n",
      "0.8048\n",
      "Time: 18.0s\n",
      "0.8155\n",
      "Time: 17.62s\n",
      "0.8032\n",
      "Time: 18.48s\n",
      "0.8089\n",
      "Time: 18.49s\n",
      "0.8108\n",
      "Time: 20.73s\n"
     ]
    }
   ],
   "source": [
    "# Analysis with different number of trees\n",
    "timeList=list()\n",
    "accuracyList=list()\n",
    "for num in range(10,101,10):\n",
    "    a,t=RFClassifier(training_data_pca,test_data_pca,num,'pca')\n",
    "    timeList.append(t)\n",
    "    accuracyList.append(a)"
   ]
  },
  {
   "cell_type": "code",
   "execution_count": 7,
   "metadata": {},
   "outputs": [
    {
     "data": {
      "image/png": "[encoded data removed]",
      "text/plain": [
       "<matplotlib.figure.Figure at 0x1152614a8>"
      ]
     },
     "metadata": {},
     "output_type": "display_data"
    },
    {
     "data": {
      "image/png": "[encoded data removed]",
      "text/plain": [
       "<matplotlib.figure.Figure at 0x1152f6278>"
      ]
     },
     "metadata": {},
     "output_type": "display_data"
    }
   ],
   "source": [
    "# Plot\n",
    "x=np.arange(10,101,10)\n",
    "plt.title( 'Number of Trees VS Accuracy')  \n",
    "plt.ylabel('Accuracy',fontsize=15)\n",
    "plt.xlabel('Number of Trees',fontsize=15)\n",
    "plt.plot(x,np.array(accuracyList))\n",
    "plt.show()\n",
    "\n",
    "x=np.arange(10,101,10)\n",
    "plt.title( 'Number of Trees VS Running Time')  \n",
    "plt.ylabel('Running time',fontsize=15)\n",
    "plt.xlabel('Number of Trees',fontsize=15)\n",
    "plt.plot(x,np.array(timeList))\n",
    "plt.show()\n"
   ]
  },
  {
   "cell_type": "code",
   "execution_count": 8,
   "metadata": {},
   "outputs": [],
   "source": [
    "spark.stop()"
   ]
  },
  {
   "cell_type": "code",
   "execution_count": null,
   "metadata": {},
   "outputs": [],
   "source": []
  }
 ],
 "metadata": {
  "kernelspec": {
   "display_name": "Python 3",
   "language": "python",
   "name": "python3"
  },
  "language_info": {
   "codemirror_mode": {
    "name": "ipython",
    "version": 3
   },
   "file_extension": ".py",
   "mimetype": "text/x-python",
   "name": "python",
   "nbconvert_exporter": "python",
   "pygments_lexer": "ipython3",
   "version": "3.6.4"
  }
 },
 "nbformat": 4,
 "nbformat_minor": 2
}
